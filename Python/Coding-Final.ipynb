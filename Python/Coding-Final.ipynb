{
 "cells": [
  {
   "cell_type": "markdown",
   "metadata": {},
   "source": [
    "**Automate repeating tasks using Python “for” loops.**"
   ]
  },
  {
   "cell_type": "code",
   "execution_count": 23,
   "metadata": {},
   "outputs": [
    {
     "name": "stdout",
     "output_type": "stream",
     "text": [
      "monday\n",
      "tuesday\n",
      "wednesday\n",
      "thursday\n",
      "friday\n"
     ]
    }
   ],
   "source": [
    "weekdays = ['monday', 'tuesday', 'wednesday', 'thursday', 'friday']\n",
    "for days in weekdays:\n",
    "    print(days)"
   ]
  },
  {
   "cell_type": "code",
   "execution_count": 24,
   "metadata": {},
   "outputs": [
    {
     "name": "stdout",
     "output_type": "stream",
     "text": [
      "15\n",
      "20\n",
      "25\n",
      "30\n",
      "35\n",
      "40\n",
      "45\n",
      "50\n",
      "55\n",
      "60\n",
      "65\n",
      "70\n",
      "75\n",
      "80\n",
      "85\n",
      "90\n"
     ]
    }
   ],
   "source": [
    "age = 10\n",
    "every5year = list(range(0,80,5))\n",
    "for year in every5year:\n",
    "    age = age + 5\n",
    "    print(age)"
   ]
  },
  {
   "cell_type": "code",
   "execution_count": 25,
   "metadata": {},
   "outputs": [
    {
     "name": "stdout",
     "output_type": "stream",
     "text": [
      "[0, 5, 10, 15, 20, 25, 30, 35, 40, 45, 50, 55, 60, 65, 70, 75]\n"
     ]
    }
   ],
   "source": [
    "print(every5year)"
   ]
  },
  {
   "cell_type": "code",
   "execution_count": 26,
   "metadata": {},
   "outputs": [
    {
     "name": "stdout",
     "output_type": "stream",
     "text": [
      "I AM STILL YOUNG!\n",
      "I AM STILL YOUNG!\n",
      "I AM STILL YOUNG!\n",
      "I AM STILL YOUNG!\n",
      "I AM STILL YOUNG!\n",
      "I AM STILL YOUNG!\n",
      "Am I still counted as young?\n",
      "Am I still counted as young?\n",
      "Am I still counted as young?\n",
      "Am I still counted as young?\n",
      "Am I still counted as young?\n",
      "I am definitely old.\n",
      "I am definitely old.\n",
      "I am definitely old.\n",
      "I am definitely old.\n",
      "Oh God I dont wanna die.\n"
     ]
    }
   ],
   "source": [
    "every5year = list(range(0,80,5))\n",
    "for age in every5year:\n",
    "    if age <= 25:\n",
    "        print('I AM STILL YOUNG!')\n",
    "    elif age <= 50:\n",
    "        print('Am I still counted as young?')\n",
    "    elif age <= 70:\n",
    "        print('I am definitely old.')\n",
    "    else :\n",
    "        print('Oh God I dont wanna die.')"
   ]
  },
  {
   "cell_type": "code",
   "execution_count": 27,
   "metadata": {},
   "outputs": [],
   "source": [
    "def what_people_think(age):\n",
    "    if age <= 25:\n",
    "        return 'I AM STILL YOUNG!'\n",
    "    elif age <= 50:\n",
    "        return 'Am I still counted as young?'\n",
    "    elif age <= 70:\n",
    "        return 'I am definitely old.'\n",
    "    else :\n",
    "        return 'Oh God I dont wanna die.'"
   ]
  },
  {
   "cell_type": "code",
   "execution_count": 28,
   "metadata": {},
   "outputs": [
    {
     "data": {
      "text/plain": [
       "'I AM STILL YOUNG!'"
      ]
     },
     "execution_count": 28,
     "metadata": {},
     "output_type": "execute_result"
    }
   ],
   "source": [
    "what_people_think(19)"
   ]
  },
  {
   "cell_type": "code",
   "execution_count": 29,
   "metadata": {},
   "outputs": [
    {
     "data": {
      "text/plain": [
       "'Am I still counted as young?'"
      ]
     },
     "execution_count": 29,
     "metadata": {},
     "output_type": "execute_result"
    }
   ],
   "source": [
    "what_people_think(28)"
   ]
  },
  {
   "cell_type": "code",
   "execution_count": 30,
   "metadata": {},
   "outputs": [
    {
     "data": {
      "text/plain": [
       "'I am definitely old.'"
      ]
     },
     "execution_count": 30,
     "metadata": {},
     "output_type": "execute_result"
    }
   ],
   "source": [
    "what_people_think(70)"
   ]
  },
  {
   "cell_type": "code",
   "execution_count": 31,
   "metadata": {},
   "outputs": [
    {
     "data": {
      "text/plain": [
       "'Oh God I dont wanna die.'"
      ]
     },
     "execution_count": 31,
     "metadata": {},
     "output_type": "execute_result"
    }
   ],
   "source": [
    "what_people_think(78)"
   ]
  },
  {
   "cell_type": "code",
   "execution_count": 32,
   "metadata": {},
   "outputs": [
    {
     "data": {
      "text/plain": [
       "[0, 5, 10, 15, 20, 25, 30, 35, 40, 45, 50, 55, 60, 65, 70, 75]"
      ]
     },
     "execution_count": 32,
     "metadata": {},
     "output_type": "execute_result"
    }
   ],
   "source": [
    "every5year"
   ]
  },
  {
   "cell_type": "markdown",
   "metadata": {},
   "source": [
    "**Break up work into smaller components using Python functions.**"
   ]
  },
  {
   "cell_type": "code",
   "execution_count": 33,
   "metadata": {},
   "outputs": [
    {
     "name": "stdout",
     "output_type": "stream",
     "text": [
      "Most probably have a good health condition at 0\n",
      "Most probably have a good health condition at 5\n",
      "Most probably have a good health condition at 10\n",
      "Most probably have a good health condition at 15\n",
      "Most probably have a good health condition at 20\n",
      "Most probably have a good health condition at 25\n",
      "Most probably have a good health condition at 30\n",
      "Most probably have a good health condition at 35\n",
      "Most probably have a good health condition at 40\n",
      "Most probably have a good health condition at 45\n",
      "Should start to visit the doctor regularly after 46\n"
     ]
    }
   ],
   "source": [
    "for age in every5year:\n",
    "    print('Most probably have a good health condition at', age)\n",
    "    if age > 40:\n",
    "        print('Should start to visit the doctor regularly after', age+1)\n",
    "        break"
   ]
  },
  {
   "cell_type": "markdown",
   "metadata": {},
   "source": [
    "**Use Python “lists” and “dictionaries” appropriately. Demonstrate one of the two.**"
   ]
  },
  {
   "cell_type": "markdown",
   "metadata": {},
   "source": [
    "## Dictionary"
   ]
  },
  {
   "cell_type": "code",
   "execution_count": 34,
   "metadata": {},
   "outputs": [],
   "source": [
    "emergency = {'Emergency' :39.5, 'Above Normal' : 37.7, 'Normal' : 35.7, 'Below Normal': 35}"
   ]
  },
  {
   "cell_type": "code",
   "execution_count": 35,
   "metadata": {},
   "outputs": [],
   "source": [
    "def emergency_check(fever, emergency_dict):\n",
    "    for number in emergency_dict:\n",
    "        if fever >= emergency_dict[number]: \n",
    "            return number"
   ]
  },
  {
   "cell_type": "code",
   "execution_count": 36,
   "metadata": {},
   "outputs": [
    {
     "data": {
      "text/plain": [
       "'Emergency'"
      ]
     },
     "execution_count": 36,
     "metadata": {},
     "output_type": "execute_result"
    }
   ],
   "source": [
    "emergency_check(39.8, emergency)"
   ]
  },
  {
   "cell_type": "code",
   "execution_count": 37,
   "metadata": {},
   "outputs": [
    {
     "data": {
      "text/plain": [
       "'Above Normal'"
      ]
     },
     "execution_count": 37,
     "metadata": {},
     "output_type": "execute_result"
    }
   ],
   "source": [
    "emergency_check(38, emergency)"
   ]
  },
  {
   "cell_type": "code",
   "execution_count": 38,
   "metadata": {},
   "outputs": [
    {
     "data": {
      "text/plain": [
       "'Normal'"
      ]
     },
     "execution_count": 38,
     "metadata": {},
     "output_type": "execute_result"
    }
   ],
   "source": [
    "emergency_check(36, emergency)"
   ]
  },
  {
   "cell_type": "code",
   "execution_count": 39,
   "metadata": {},
   "outputs": [
    {
     "data": {
      "text/plain": [
       "'Below Normal'"
      ]
     },
     "execution_count": 39,
     "metadata": {},
     "output_type": "execute_result"
    }
   ],
   "source": [
    "emergency_check(35.5, emergency)"
   ]
  },
  {
   "cell_type": "markdown",
   "metadata": {},
   "source": [
    "## Doing the same process with the dataset"
   ]
  },
  {
   "cell_type": "markdown",
   "metadata": {},
   "source": [
    "**Automate repeating tasks using Python “for” loops. Break up work into smaller components using Python functions.**"
   ]
  },
  {
   "cell_type": "code",
   "execution_count": 19,
   "metadata": {},
   "outputs": [],
   "source": [
    "import pandas as pd"
   ]
  },
  {
   "cell_type": "code",
   "execution_count": 41,
   "metadata": {},
   "outputs": [],
   "source": [
    "lyrics_data = pd.read_csv('lyrics-data.csv')"
   ]
  },
  {
   "cell_type": "code",
   "execution_count": 43,
   "metadata": {},
   "outputs": [],
   "source": [
    "artists_data = pd.read_csv('artists-data.csv')"
   ]
  },
  {
   "cell_type": "code",
   "execution_count": 44,
   "metadata": {},
   "outputs": [
    {
     "data": {
      "text/html": [
       "<div>\n",
       "<style scoped>\n",
       "    .dataframe tbody tr th:only-of-type {\n",
       "        vertical-align: middle;\n",
       "    }\n",
       "\n",
       "    .dataframe tbody tr th {\n",
       "        vertical-align: top;\n",
       "    }\n",
       "\n",
       "    .dataframe thead th {\n",
       "        text-align: right;\n",
       "    }\n",
       "</style>\n",
       "<table border=\"1\" class=\"dataframe\">\n",
       "  <thead>\n",
       "    <tr style=\"text-align: right;\">\n",
       "      <th></th>\n",
       "      <th>ALink</th>\n",
       "      <th>SName</th>\n",
       "      <th>SLink</th>\n",
       "      <th>Lyric</th>\n",
       "      <th>Idiom</th>\n",
       "    </tr>\n",
       "  </thead>\n",
       "  <tbody>\n",
       "    <tr>\n",
       "      <th>0</th>\n",
       "      <td>/10000-maniacs/</td>\n",
       "      <td>More Than This</td>\n",
       "      <td>/10000-maniacs/more-than-this.html</td>\n",
       "      <td>I could feel at the time. There was no way of ...</td>\n",
       "      <td>ENGLISH</td>\n",
       "    </tr>\n",
       "    <tr>\n",
       "      <th>1</th>\n",
       "      <td>/10000-maniacs/</td>\n",
       "      <td>Because The Night</td>\n",
       "      <td>/10000-maniacs/because-the-night.html</td>\n",
       "      <td>Take me now, baby, here as I am. Hold me close...</td>\n",
       "      <td>ENGLISH</td>\n",
       "    </tr>\n",
       "    <tr>\n",
       "      <th>2</th>\n",
       "      <td>/10000-maniacs/</td>\n",
       "      <td>These Are Days</td>\n",
       "      <td>/10000-maniacs/these-are-days.html</td>\n",
       "      <td>These are. These are days you'll remember. Nev...</td>\n",
       "      <td>ENGLISH</td>\n",
       "    </tr>\n",
       "    <tr>\n",
       "      <th>3</th>\n",
       "      <td>/10000-maniacs/</td>\n",
       "      <td>A Campfire Song</td>\n",
       "      <td>/10000-maniacs/a-campfire-song.html</td>\n",
       "      <td>A lie to say, \"O my mountain has coal veins an...</td>\n",
       "      <td>ENGLISH</td>\n",
       "    </tr>\n",
       "    <tr>\n",
       "      <th>4</th>\n",
       "      <td>/10000-maniacs/</td>\n",
       "      <td>Everyday Is Like Sunday</td>\n",
       "      <td>/10000-maniacs/everyday-is-like-sunday.html</td>\n",
       "      <td>Trudging slowly over wet sand. Back to the ben...</td>\n",
       "      <td>ENGLISH</td>\n",
       "    </tr>\n",
       "    <tr>\n",
       "      <th>...</th>\n",
       "      <td>...</td>\n",
       "      <td>...</td>\n",
       "      <td>...</td>\n",
       "      <td>...</td>\n",
       "      <td>...</td>\n",
       "    </tr>\n",
       "    <tr>\n",
       "      <th>209517</th>\n",
       "      <td>/zeca-pagodinho/</td>\n",
       "      <td>Vou Botar Teu Nome Na Macumba</td>\n",
       "      <td>/zeca-pagodinho/vou-botar-teu-nome-na-macumba....</td>\n",
       "      <td>Eu vou botar teu nome na macumba. Vou procurar...</td>\n",
       "      <td>PORTUGUESE</td>\n",
       "    </tr>\n",
       "    <tr>\n",
       "      <th>209518</th>\n",
       "      <td>/zeca-pagodinho/</td>\n",
       "      <td>Vou Procurar Esquecer</td>\n",
       "      <td>/zeca-pagodinho/vou-procurar-esquecer.html</td>\n",
       "      <td>Vou procurar um novo amor na minha vida. Porqu...</td>\n",
       "      <td>PORTUGUESE</td>\n",
       "    </tr>\n",
       "    <tr>\n",
       "      <th>209519</th>\n",
       "      <td>/zeca-pagodinho/</td>\n",
       "      <td>Vou Ver Juliana</td>\n",
       "      <td>/zeca-pagodinho/vou-ver-juliana.html</td>\n",
       "      <td>Quando a mare vazá. Vou vê juliana. Vou vê jul...</td>\n",
       "      <td>PORTUGUESE</td>\n",
       "    </tr>\n",
       "    <tr>\n",
       "      <th>209520</th>\n",
       "      <td>/zeca-pagodinho/</td>\n",
       "      <td>Yaô Cadê A Samba / Outro Recado / Hino</td>\n",
       "      <td>/zeca-pagodinho/yao-cade-a-samba-outro-recado-...</td>\n",
       "      <td>Ô Yaô. Yaô, cadê a samba?. Está mangando na cu...</td>\n",
       "      <td>PORTUGUESE</td>\n",
       "    </tr>\n",
       "    <tr>\n",
       "      <th>209521</th>\n",
       "      <td>/zeca-pagodinho/</td>\n",
       "      <td>Zeca, Cadê Você?</td>\n",
       "      <td>/zeca-pagodinho/zeca-cade-voce.html</td>\n",
       "      <td>Ô, Zeca, tu tá morando onde?. Ô, Zeca, tu tá m...</td>\n",
       "      <td>PORTUGUESE</td>\n",
       "    </tr>\n",
       "  </tbody>\n",
       "</table>\n",
       "<p>209522 rows × 5 columns</p>\n",
       "</div>"
      ],
      "text/plain": [
       "                   ALink                                   SName  \\\n",
       "0        /10000-maniacs/                          More Than This   \n",
       "1        /10000-maniacs/                       Because The Night   \n",
       "2        /10000-maniacs/                          These Are Days   \n",
       "3        /10000-maniacs/                         A Campfire Song   \n",
       "4        /10000-maniacs/                 Everyday Is Like Sunday   \n",
       "...                  ...                                     ...   \n",
       "209517  /zeca-pagodinho/           Vou Botar Teu Nome Na Macumba   \n",
       "209518  /zeca-pagodinho/                   Vou Procurar Esquecer   \n",
       "209519  /zeca-pagodinho/                         Vou Ver Juliana   \n",
       "209520  /zeca-pagodinho/  Yaô Cadê A Samba / Outro Recado / Hino   \n",
       "209521  /zeca-pagodinho/                        Zeca, Cadê Você?   \n",
       "\n",
       "                                                    SLink  \\\n",
       "0                      /10000-maniacs/more-than-this.html   \n",
       "1                   /10000-maniacs/because-the-night.html   \n",
       "2                      /10000-maniacs/these-are-days.html   \n",
       "3                     /10000-maniacs/a-campfire-song.html   \n",
       "4             /10000-maniacs/everyday-is-like-sunday.html   \n",
       "...                                                   ...   \n",
       "209517  /zeca-pagodinho/vou-botar-teu-nome-na-macumba....   \n",
       "209518         /zeca-pagodinho/vou-procurar-esquecer.html   \n",
       "209519               /zeca-pagodinho/vou-ver-juliana.html   \n",
       "209520  /zeca-pagodinho/yao-cade-a-samba-outro-recado-...   \n",
       "209521                /zeca-pagodinho/zeca-cade-voce.html   \n",
       "\n",
       "                                                    Lyric       Idiom  \n",
       "0       I could feel at the time. There was no way of ...     ENGLISH  \n",
       "1       Take me now, baby, here as I am. Hold me close...     ENGLISH  \n",
       "2       These are. These are days you'll remember. Nev...     ENGLISH  \n",
       "3       A lie to say, \"O my mountain has coal veins an...     ENGLISH  \n",
       "4       Trudging slowly over wet sand. Back to the ben...     ENGLISH  \n",
       "...                                                   ...         ...  \n",
       "209517  Eu vou botar teu nome na macumba. Vou procurar...  PORTUGUESE  \n",
       "209518  Vou procurar um novo amor na minha vida. Porqu...  PORTUGUESE  \n",
       "209519  Quando a mare vazá. Vou vê juliana. Vou vê jul...  PORTUGUESE  \n",
       "209520  Ô Yaô. Yaô, cadê a samba?. Está mangando na cu...  PORTUGUESE  \n",
       "209521  Ô, Zeca, tu tá morando onde?. Ô, Zeca, tu tá m...  PORTUGUESE  \n",
       "\n",
       "[209522 rows x 5 columns]"
      ]
     },
     "execution_count": 44,
     "metadata": {},
     "output_type": "execute_result"
    }
   ],
   "source": [
    "lyrics_data"
   ]
  },
  {
   "cell_type": "code",
   "execution_count": 45,
   "metadata": {},
   "outputs": [
    {
     "data": {
      "text/html": [
       "<div>\n",
       "<style scoped>\n",
       "    .dataframe tbody tr th:only-of-type {\n",
       "        vertical-align: middle;\n",
       "    }\n",
       "\n",
       "    .dataframe tbody tr th {\n",
       "        vertical-align: top;\n",
       "    }\n",
       "\n",
       "    .dataframe thead th {\n",
       "        text-align: right;\n",
       "    }\n",
       "</style>\n",
       "<table border=\"1\" class=\"dataframe\">\n",
       "  <thead>\n",
       "    <tr style=\"text-align: right;\">\n",
       "      <th></th>\n",
       "      <th>Artist</th>\n",
       "      <th>Songs</th>\n",
       "      <th>Popularity</th>\n",
       "      <th>Link</th>\n",
       "      <th>Genre</th>\n",
       "      <th>Genres</th>\n",
       "    </tr>\n",
       "  </thead>\n",
       "  <tbody>\n",
       "    <tr>\n",
       "      <th>0</th>\n",
       "      <td>10000 Maniacs</td>\n",
       "      <td>110</td>\n",
       "      <td>0.3</td>\n",
       "      <td>/10000-maniacs/</td>\n",
       "      <td>Rock</td>\n",
       "      <td>Rock; Pop; Electronica; Dance; J-Pop/J-Rock; G...</td>\n",
       "    </tr>\n",
       "    <tr>\n",
       "      <th>1</th>\n",
       "      <td>12 Stones</td>\n",
       "      <td>75</td>\n",
       "      <td>0.3</td>\n",
       "      <td>/12-stones/</td>\n",
       "      <td>Rock</td>\n",
       "      <td>Rock; Gospel/Religioso; Hard Rock; Grunge; Roc...</td>\n",
       "    </tr>\n",
       "    <tr>\n",
       "      <th>2</th>\n",
       "      <td>311</td>\n",
       "      <td>196</td>\n",
       "      <td>0.5</td>\n",
       "      <td>/311/</td>\n",
       "      <td>Rock</td>\n",
       "      <td>Rock; Surf Music; Reggae; Ska; Pop/Rock; Rock ...</td>\n",
       "    </tr>\n",
       "    <tr>\n",
       "      <th>3</th>\n",
       "      <td>4 Non Blondes</td>\n",
       "      <td>15</td>\n",
       "      <td>7.5</td>\n",
       "      <td>/4-non-blondes/</td>\n",
       "      <td>Rock</td>\n",
       "      <td>Rock; Pop/Rock; Rock Alternativo; Grunge; Blue...</td>\n",
       "    </tr>\n",
       "    <tr>\n",
       "      <th>4</th>\n",
       "      <td>A Cruz Está Vazia</td>\n",
       "      <td>13</td>\n",
       "      <td>0.0</td>\n",
       "      <td>/a-cruz-esta-vazia/</td>\n",
       "      <td>Rock</td>\n",
       "      <td>Rock</td>\n",
       "    </tr>\n",
       "    <tr>\n",
       "      <th>...</th>\n",
       "      <td>...</td>\n",
       "      <td>...</td>\n",
       "      <td>...</td>\n",
       "      <td>...</td>\n",
       "      <td>...</td>\n",
       "      <td>...</td>\n",
       "    </tr>\n",
       "    <tr>\n",
       "      <th>3237</th>\n",
       "      <td>Péricles</td>\n",
       "      <td>102</td>\n",
       "      <td>6.8</td>\n",
       "      <td>/pericles/</td>\n",
       "      <td>Samba</td>\n",
       "      <td>Romântico; Pagode; Samba; Sertanejo; Samba Enr...</td>\n",
       "    </tr>\n",
       "    <tr>\n",
       "      <th>3238</th>\n",
       "      <td>Rodriguinho</td>\n",
       "      <td>106</td>\n",
       "      <td>2.7</td>\n",
       "      <td>/rodriguinho/</td>\n",
       "      <td>Samba</td>\n",
       "      <td>Romântico; Pagode; Samba; Country; Hardcore; T...</td>\n",
       "    </tr>\n",
       "    <tr>\n",
       "      <th>3239</th>\n",
       "      <td>Sambô</td>\n",
       "      <td>71</td>\n",
       "      <td>0.8</td>\n",
       "      <td>/sambo/</td>\n",
       "      <td>Rock</td>\n",
       "      <td>Samba; Pagode; Rock; Pop/Rock; Soul Music; Cla...</td>\n",
       "    </tr>\n",
       "    <tr>\n",
       "      <th>3240</th>\n",
       "      <td>Thiaguinho</td>\n",
       "      <td>143</td>\n",
       "      <td>13.8</td>\n",
       "      <td>/thiaguinho/</td>\n",
       "      <td>Samba</td>\n",
       "      <td>Pagode; Romântico; Samba; Trilha Sonora; Black...</td>\n",
       "    </tr>\n",
       "    <tr>\n",
       "      <th>3241</th>\n",
       "      <td>Turma do Pagode</td>\n",
       "      <td>182</td>\n",
       "      <td>11.7</td>\n",
       "      <td>/turma-do-pagode/</td>\n",
       "      <td>Samba</td>\n",
       "      <td>Romântico; Pagode; Samba; Sertanejo; Funk Cari...</td>\n",
       "    </tr>\n",
       "  </tbody>\n",
       "</table>\n",
       "<p>3242 rows × 6 columns</p>\n",
       "</div>"
      ],
      "text/plain": [
       "                 Artist  Songs  Popularity                 Link  Genre  \\\n",
       "0         10000 Maniacs    110         0.3      /10000-maniacs/   Rock   \n",
       "1             12 Stones     75         0.3          /12-stones/   Rock   \n",
       "2                   311    196         0.5                /311/   Rock   \n",
       "3         4 Non Blondes     15         7.5      /4-non-blondes/   Rock   \n",
       "4     A Cruz Está Vazia     13         0.0  /a-cruz-esta-vazia/   Rock   \n",
       "...                 ...    ...         ...                  ...    ...   \n",
       "3237           Péricles    102         6.8           /pericles/  Samba   \n",
       "3238        Rodriguinho    106         2.7        /rodriguinho/  Samba   \n",
       "3239              Sambô     71         0.8              /sambo/   Rock   \n",
       "3240         Thiaguinho    143        13.8         /thiaguinho/  Samba   \n",
       "3241    Turma do Pagode    182        11.7    /turma-do-pagode/  Samba   \n",
       "\n",
       "                                                 Genres  \n",
       "0     Rock; Pop; Electronica; Dance; J-Pop/J-Rock; G...  \n",
       "1     Rock; Gospel/Religioso; Hard Rock; Grunge; Roc...  \n",
       "2     Rock; Surf Music; Reggae; Ska; Pop/Rock; Rock ...  \n",
       "3     Rock; Pop/Rock; Rock Alternativo; Grunge; Blue...  \n",
       "4                                                  Rock  \n",
       "...                                                 ...  \n",
       "3237  Romântico; Pagode; Samba; Sertanejo; Samba Enr...  \n",
       "3238  Romântico; Pagode; Samba; Country; Hardcore; T...  \n",
       "3239  Samba; Pagode; Rock; Pop/Rock; Soul Music; Cla...  \n",
       "3240  Pagode; Romântico; Samba; Trilha Sonora; Black...  \n",
       "3241  Romântico; Pagode; Samba; Sertanejo; Funk Cari...  \n",
       "\n",
       "[3242 rows x 6 columns]"
      ]
     },
     "execution_count": 45,
     "metadata": {},
     "output_type": "execute_result"
    }
   ],
   "source": [
    "artists_data"
   ]
  },
  {
   "cell_type": "code",
   "execution_count": 46,
   "metadata": {},
   "outputs": [],
   "source": [
    "score = artists_data['Popularity']\n",
    "def popular_artist(score):\n",
    "    if score <= 2.0:\n",
    "        return 'Not popular'\n",
    "    elif score <6 :\n",
    "        return 'Average'\n",
    "    elif score < 15:\n",
    "        return 'Popular'\n",
    "    else :\n",
    "        return 'Superstar'"
   ]
  },
  {
   "cell_type": "code",
   "execution_count": 47,
   "metadata": {},
   "outputs": [
    {
     "data": {
      "text/plain": [
       "'Not popular'"
      ]
     },
     "execution_count": 47,
     "metadata": {},
     "output_type": "execute_result"
    }
   ],
   "source": [
    "popular_artist(1.5)"
   ]
  },
  {
   "cell_type": "code",
   "execution_count": 48,
   "metadata": {},
   "outputs": [
    {
     "data": {
      "text/plain": [
       "'Superstar'"
      ]
     },
     "execution_count": 48,
     "metadata": {},
     "output_type": "execute_result"
    }
   ],
   "source": [
    "popular_artist(40)"
   ]
  },
  {
   "cell_type": "code",
   "execution_count": 49,
   "metadata": {},
   "outputs": [
    {
     "data": {
      "text/plain": [
       "'Superstar'"
      ]
     },
     "execution_count": 49,
     "metadata": {},
     "output_type": "execute_result"
    }
   ],
   "source": [
    "popular_artist(40)"
   ]
  },
  {
   "cell_type": "code",
   "execution_count": 50,
   "metadata": {},
   "outputs": [
    {
     "name": "stdout",
     "output_type": "stream",
     "text": [
      "Songs with higher number than 13 110\n",
      "Songs with higher number than 13 75\n",
      "Songs with higher number than 13 196\n",
      "Songs with higher number than 13 15\n",
      "Songs with higher number than 13 13\n",
      "Songs with higher number than 13 36\n",
      "Songs with higher number than 13 36\n",
      "Songs with higher number than 13 13\n",
      "Songs with higher number than 13 192\n",
      "Songs with higher number than 13 0\n",
      "First song which has a number than 13 0\n"
     ]
    }
   ],
   "source": [
    "list_songs = artists_data['Songs']\n",
    "for song in list_songs[0:100:1]:\n",
    "    print('Songs with higher number than 13', song)\n",
    "    if song <= 12:\n",
    "        print('First song which has a number than 13',song)\n",
    "        break"
   ]
  },
  {
   "cell_type": "code",
   "execution_count": 51,
   "metadata": {},
   "outputs": [
    {
     "name": "stdout",
     "output_type": "stream",
     "text": [
      "Songs with higher number than 13 110\n",
      "Songs with higher number than 13 36\n",
      "Songs with higher number than 13 5\n",
      "First song which has a number than 13 5\n"
     ]
    }
   ],
   "source": [
    "for song in list_songs[0:100:5]:\n",
    "    print('Songs with higher number than 13', song)\n",
    "    if song <= 12:\n",
    "        print('First song which has a number than 13',song)\n",
    "        break"
   ]
  },
  {
   "cell_type": "code",
   "execution_count": 52,
   "metadata": {},
   "outputs": [
    {
     "name": "stdout",
     "output_type": "stream",
     "text": [
      "<class 'pandas.core.frame.DataFrame'>\n",
      "RangeIndex: 209522 entries, 0 to 209521\n",
      "Data columns (total 5 columns):\n",
      " #   Column  Non-Null Count   Dtype \n",
      "---  ------  --------------   ----- \n",
      " 0   ALink   209522 non-null  object\n",
      " 1   SName   209522 non-null  object\n",
      " 2   SLink   209522 non-null  object\n",
      " 3   Lyric   209484 non-null  object\n",
      " 4   Idiom   206375 non-null  object\n",
      "dtypes: object(5)\n",
      "memory usage: 8.0+ MB\n",
      "None\n"
     ]
    }
   ],
   "source": [
    "print(lyrics_data.info())"
   ]
  },
  {
   "cell_type": "code",
   "execution_count": 53,
   "metadata": {},
   "outputs": [
    {
     "name": "stdout",
     "output_type": "stream",
     "text": [
      "<class 'pandas.core.frame.DataFrame'>\n",
      "RangeIndex: 209522 entries, 0 to 209521\n",
      "Data columns (total 5 columns):\n",
      " #   Column  Non-Null Count   Dtype \n",
      "---  ------  --------------   ----- \n",
      " 0   ALink   209522 non-null  object\n",
      " 1   SName   209522 non-null  object\n",
      " 2   SLink   209522 non-null  object\n",
      " 3   Lyric   209484 non-null  object\n",
      " 4   Idiom   206375 non-null  object\n",
      "dtypes: object(5)\n",
      "memory usage: 8.0+ MB\n",
      "None\n"
     ]
    }
   ],
   "source": [
    "print(lyrics_data.info())"
   ]
  },
  {
   "cell_type": "markdown",
   "metadata": {},
   "source": [
    "- Dropping the unnecessary values"
   ]
  },
  {
   "cell_type": "code",
   "execution_count": 54,
   "metadata": {},
   "outputs": [],
   "source": [
    "lyrics_data.drop(['SName', 'SLink'], axis=1, inplace=True)"
   ]
  },
  {
   "cell_type": "code",
   "execution_count": 55,
   "metadata": {},
   "outputs": [],
   "source": [
    "artists_data.drop(['Genres'], axis=1, inplace=True)"
   ]
  },
  {
   "cell_type": "code",
   "execution_count": 56,
   "metadata": {},
   "outputs": [
    {
     "ename": "KeyError",
     "evalue": "\"['Genres'] not found in axis\"",
     "output_type": "error",
     "traceback": [
      "\u001b[0;31m---------------------------------------------------------------------------\u001b[0m",
      "\u001b[0;31mKeyError\u001b[0m                                  Traceback (most recent call last)",
      "\u001b[0;32m<ipython-input-56-f4393c664c71>\u001b[0m in \u001b[0;36m<module>\u001b[0;34m\u001b[0m\n\u001b[0;32m----> 1\u001b[0;31m \u001b[0martists_data\u001b[0m\u001b[0;34m.\u001b[0m\u001b[0mdrop\u001b[0m\u001b[0;34m(\u001b[0m\u001b[0;34m[\u001b[0m\u001b[0;34m'Genres'\u001b[0m\u001b[0;34m]\u001b[0m\u001b[0;34m,\u001b[0m \u001b[0maxis\u001b[0m\u001b[0;34m=\u001b[0m\u001b[0;36m1\u001b[0m\u001b[0;34m,\u001b[0m \u001b[0minplace\u001b[0m\u001b[0;34m=\u001b[0m\u001b[0;32mTrue\u001b[0m\u001b[0;34m)\u001b[0m\u001b[0;34m\u001b[0m\u001b[0;34m\u001b[0m\u001b[0m\n\u001b[0m",
      "\u001b[0;32m~/opt/anaconda3/lib/python3.8/site-packages/pandas/core/frame.py\u001b[0m in \u001b[0;36mdrop\u001b[0;34m(self, labels, axis, index, columns, level, inplace, errors)\u001b[0m\n\u001b[1;32m   3988\u001b[0m                 \u001b[0mweight\u001b[0m  \u001b[0;36m1.0\u001b[0m     \u001b[0;36m0.8\u001b[0m\u001b[0;34m\u001b[0m\u001b[0;34m\u001b[0m\u001b[0m\n\u001b[1;32m   3989\u001b[0m         \"\"\"\n\u001b[0;32m-> 3990\u001b[0;31m         return super().drop(\n\u001b[0m\u001b[1;32m   3991\u001b[0m             \u001b[0mlabels\u001b[0m\u001b[0;34m=\u001b[0m\u001b[0mlabels\u001b[0m\u001b[0;34m,\u001b[0m\u001b[0;34m\u001b[0m\u001b[0;34m\u001b[0m\u001b[0m\n\u001b[1;32m   3992\u001b[0m             \u001b[0maxis\u001b[0m\u001b[0;34m=\u001b[0m\u001b[0maxis\u001b[0m\u001b[0;34m,\u001b[0m\u001b[0;34m\u001b[0m\u001b[0;34m\u001b[0m\u001b[0m\n",
      "\u001b[0;32m~/opt/anaconda3/lib/python3.8/site-packages/pandas/core/generic.py\u001b[0m in \u001b[0;36mdrop\u001b[0;34m(self, labels, axis, index, columns, level, inplace, errors)\u001b[0m\n\u001b[1;32m   3934\u001b[0m         \u001b[0;32mfor\u001b[0m \u001b[0maxis\u001b[0m\u001b[0;34m,\u001b[0m \u001b[0mlabels\u001b[0m \u001b[0;32min\u001b[0m \u001b[0maxes\u001b[0m\u001b[0;34m.\u001b[0m\u001b[0mitems\u001b[0m\u001b[0;34m(\u001b[0m\u001b[0;34m)\u001b[0m\u001b[0;34m:\u001b[0m\u001b[0;34m\u001b[0m\u001b[0;34m\u001b[0m\u001b[0m\n\u001b[1;32m   3935\u001b[0m             \u001b[0;32mif\u001b[0m \u001b[0mlabels\u001b[0m \u001b[0;32mis\u001b[0m \u001b[0;32mnot\u001b[0m \u001b[0;32mNone\u001b[0m\u001b[0;34m:\u001b[0m\u001b[0;34m\u001b[0m\u001b[0;34m\u001b[0m\u001b[0m\n\u001b[0;32m-> 3936\u001b[0;31m                 \u001b[0mobj\u001b[0m \u001b[0;34m=\u001b[0m \u001b[0mobj\u001b[0m\u001b[0;34m.\u001b[0m\u001b[0m_drop_axis\u001b[0m\u001b[0;34m(\u001b[0m\u001b[0mlabels\u001b[0m\u001b[0;34m,\u001b[0m \u001b[0maxis\u001b[0m\u001b[0;34m,\u001b[0m \u001b[0mlevel\u001b[0m\u001b[0;34m=\u001b[0m\u001b[0mlevel\u001b[0m\u001b[0;34m,\u001b[0m \u001b[0merrors\u001b[0m\u001b[0;34m=\u001b[0m\u001b[0merrors\u001b[0m\u001b[0;34m)\u001b[0m\u001b[0;34m\u001b[0m\u001b[0;34m\u001b[0m\u001b[0m\n\u001b[0m\u001b[1;32m   3937\u001b[0m \u001b[0;34m\u001b[0m\u001b[0m\n\u001b[1;32m   3938\u001b[0m         \u001b[0;32mif\u001b[0m \u001b[0minplace\u001b[0m\u001b[0;34m:\u001b[0m\u001b[0;34m\u001b[0m\u001b[0;34m\u001b[0m\u001b[0m\n",
      "\u001b[0;32m~/opt/anaconda3/lib/python3.8/site-packages/pandas/core/generic.py\u001b[0m in \u001b[0;36m_drop_axis\u001b[0;34m(self, labels, axis, level, errors)\u001b[0m\n\u001b[1;32m   3968\u001b[0m                 \u001b[0mnew_axis\u001b[0m \u001b[0;34m=\u001b[0m \u001b[0maxis\u001b[0m\u001b[0;34m.\u001b[0m\u001b[0mdrop\u001b[0m\u001b[0;34m(\u001b[0m\u001b[0mlabels\u001b[0m\u001b[0;34m,\u001b[0m \u001b[0mlevel\u001b[0m\u001b[0;34m=\u001b[0m\u001b[0mlevel\u001b[0m\u001b[0;34m,\u001b[0m \u001b[0merrors\u001b[0m\u001b[0;34m=\u001b[0m\u001b[0merrors\u001b[0m\u001b[0;34m)\u001b[0m\u001b[0;34m\u001b[0m\u001b[0;34m\u001b[0m\u001b[0m\n\u001b[1;32m   3969\u001b[0m             \u001b[0;32melse\u001b[0m\u001b[0;34m:\u001b[0m\u001b[0;34m\u001b[0m\u001b[0;34m\u001b[0m\u001b[0m\n\u001b[0;32m-> 3970\u001b[0;31m                 \u001b[0mnew_axis\u001b[0m \u001b[0;34m=\u001b[0m \u001b[0maxis\u001b[0m\u001b[0;34m.\u001b[0m\u001b[0mdrop\u001b[0m\u001b[0;34m(\u001b[0m\u001b[0mlabels\u001b[0m\u001b[0;34m,\u001b[0m \u001b[0merrors\u001b[0m\u001b[0;34m=\u001b[0m\u001b[0merrors\u001b[0m\u001b[0;34m)\u001b[0m\u001b[0;34m\u001b[0m\u001b[0;34m\u001b[0m\u001b[0m\n\u001b[0m\u001b[1;32m   3971\u001b[0m             \u001b[0mresult\u001b[0m \u001b[0;34m=\u001b[0m \u001b[0mself\u001b[0m\u001b[0;34m.\u001b[0m\u001b[0mreindex\u001b[0m\u001b[0;34m(\u001b[0m\u001b[0;34m**\u001b[0m\u001b[0;34m{\u001b[0m\u001b[0maxis_name\u001b[0m\u001b[0;34m:\u001b[0m \u001b[0mnew_axis\u001b[0m\u001b[0;34m}\u001b[0m\u001b[0;34m)\u001b[0m\u001b[0;34m\u001b[0m\u001b[0;34m\u001b[0m\u001b[0m\n\u001b[1;32m   3972\u001b[0m \u001b[0;34m\u001b[0m\u001b[0m\n",
      "\u001b[0;32m~/opt/anaconda3/lib/python3.8/site-packages/pandas/core/indexes/base.py\u001b[0m in \u001b[0;36mdrop\u001b[0;34m(self, labels, errors)\u001b[0m\n\u001b[1;32m   5016\u001b[0m         \u001b[0;32mif\u001b[0m \u001b[0mmask\u001b[0m\u001b[0;34m.\u001b[0m\u001b[0many\u001b[0m\u001b[0;34m(\u001b[0m\u001b[0;34m)\u001b[0m\u001b[0;34m:\u001b[0m\u001b[0;34m\u001b[0m\u001b[0;34m\u001b[0m\u001b[0m\n\u001b[1;32m   5017\u001b[0m             \u001b[0;32mif\u001b[0m \u001b[0merrors\u001b[0m \u001b[0;34m!=\u001b[0m \u001b[0;34m\"ignore\"\u001b[0m\u001b[0;34m:\u001b[0m\u001b[0;34m\u001b[0m\u001b[0;34m\u001b[0m\u001b[0m\n\u001b[0;32m-> 5018\u001b[0;31m                 \u001b[0;32mraise\u001b[0m \u001b[0mKeyError\u001b[0m\u001b[0;34m(\u001b[0m\u001b[0;34mf\"{labels[mask]} not found in axis\"\u001b[0m\u001b[0;34m)\u001b[0m\u001b[0;34m\u001b[0m\u001b[0;34m\u001b[0m\u001b[0m\n\u001b[0m\u001b[1;32m   5019\u001b[0m             \u001b[0mindexer\u001b[0m \u001b[0;34m=\u001b[0m \u001b[0mindexer\u001b[0m\u001b[0;34m[\u001b[0m\u001b[0;34m~\u001b[0m\u001b[0mmask\u001b[0m\u001b[0;34m]\u001b[0m\u001b[0;34m\u001b[0m\u001b[0;34m\u001b[0m\u001b[0m\n\u001b[1;32m   5020\u001b[0m         \u001b[0;32mreturn\u001b[0m \u001b[0mself\u001b[0m\u001b[0;34m.\u001b[0m\u001b[0mdelete\u001b[0m\u001b[0;34m(\u001b[0m\u001b[0mindexer\u001b[0m\u001b[0;34m)\u001b[0m\u001b[0;34m\u001b[0m\u001b[0;34m\u001b[0m\u001b[0m\n",
      "\u001b[0;31mKeyError\u001b[0m: \"['Genres'] not found in axis\""
     ]
    }
   ],
   "source": [
    "artists_data.drop(['Genres'], axis=1, inplace=True)"
   ]
  },
  {
   "cell_type": "markdown",
   "metadata": {},
   "source": [
    "- Dropping the duplicates"
   ]
  },
  {
   "cell_type": "code",
   "execution_count": 57,
   "metadata": {},
   "outputs": [
    {
     "data": {
      "text/plain": [
       "(2940, 5)"
      ]
     },
     "execution_count": 57,
     "metadata": {},
     "output_type": "execute_result"
    }
   ],
   "source": [
    "artists_data = artists_data.drop_duplicates(['Artist'])\n",
    "\n",
    "artists_data.shape"
   ]
  },
  {
   "cell_type": "markdown",
   "metadata": {},
   "source": [
    "- Prepare the data for merge. They have the common column but with different column names. It is \"ALink\" column in lyrics_data while it \"Link\" in artists_data. Therefore, \"ALink\"  is changed as \"Link\" to be able to use \"merge\"."
   ]
  },
  {
   "cell_type": "code",
   "execution_count": 58,
   "metadata": {},
   "outputs": [],
   "source": [
    "lyrics_data = lyrics_data.rename(columns = {\"ALink\":\"Link\"})"
   ]
  },
  {
   "cell_type": "markdown",
   "metadata": {},
   "source": [
    "- Then, merge on Link is used by the right side."
   ]
  },
  {
   "cell_type": "code",
   "execution_count": 59,
   "metadata": {},
   "outputs": [],
   "source": [
    "data = pd.merge(lyrics_data, artists_data, on = 'Link', how = 'right')"
   ]
  },
  {
   "cell_type": "code",
   "execution_count": 60,
   "metadata": {},
   "outputs": [
    {
     "data": {
      "text/html": [
       "<div>\n",
       "<style scoped>\n",
       "    .dataframe tbody tr th:only-of-type {\n",
       "        vertical-align: middle;\n",
       "    }\n",
       "\n",
       "    .dataframe tbody tr th {\n",
       "        vertical-align: top;\n",
       "    }\n",
       "\n",
       "    .dataframe thead th {\n",
       "        text-align: right;\n",
       "    }\n",
       "</style>\n",
       "<table border=\"1\" class=\"dataframe\">\n",
       "  <thead>\n",
       "    <tr style=\"text-align: right;\">\n",
       "      <th></th>\n",
       "      <th>Link</th>\n",
       "      <th>Lyric</th>\n",
       "      <th>Idiom</th>\n",
       "      <th>Artist</th>\n",
       "      <th>Songs</th>\n",
       "      <th>Popularity</th>\n",
       "      <th>Genre</th>\n",
       "    </tr>\n",
       "  </thead>\n",
       "  <tbody>\n",
       "    <tr>\n",
       "      <th>0</th>\n",
       "      <td>/10000-maniacs/</td>\n",
       "      <td>I could feel at the time. There was no way of ...</td>\n",
       "      <td>ENGLISH</td>\n",
       "      <td>10000 Maniacs</td>\n",
       "      <td>110</td>\n",
       "      <td>0.3</td>\n",
       "      <td>Rock</td>\n",
       "    </tr>\n",
       "    <tr>\n",
       "      <th>1</th>\n",
       "      <td>/10000-maniacs/</td>\n",
       "      <td>Take me now, baby, here as I am. Hold me close...</td>\n",
       "      <td>ENGLISH</td>\n",
       "      <td>10000 Maniacs</td>\n",
       "      <td>110</td>\n",
       "      <td>0.3</td>\n",
       "      <td>Rock</td>\n",
       "    </tr>\n",
       "    <tr>\n",
       "      <th>2</th>\n",
       "      <td>/10000-maniacs/</td>\n",
       "      <td>These are. These are days you'll remember. Nev...</td>\n",
       "      <td>ENGLISH</td>\n",
       "      <td>10000 Maniacs</td>\n",
       "      <td>110</td>\n",
       "      <td>0.3</td>\n",
       "      <td>Rock</td>\n",
       "    </tr>\n",
       "    <tr>\n",
       "      <th>3</th>\n",
       "      <td>/10000-maniacs/</td>\n",
       "      <td>A lie to say, \"O my mountain has coal veins an...</td>\n",
       "      <td>ENGLISH</td>\n",
       "      <td>10000 Maniacs</td>\n",
       "      <td>110</td>\n",
       "      <td>0.3</td>\n",
       "      <td>Rock</td>\n",
       "    </tr>\n",
       "    <tr>\n",
       "      <th>4</th>\n",
       "      <td>/10000-maniacs/</td>\n",
       "      <td>Trudging slowly over wet sand. Back to the ben...</td>\n",
       "      <td>ENGLISH</td>\n",
       "      <td>10000 Maniacs</td>\n",
       "      <td>110</td>\n",
       "      <td>0.3</td>\n",
       "      <td>Rock</td>\n",
       "    </tr>\n",
       "    <tr>\n",
       "      <th>...</th>\n",
       "      <td>...</td>\n",
       "      <td>...</td>\n",
       "      <td>...</td>\n",
       "      <td>...</td>\n",
       "      <td>...</td>\n",
       "      <td>...</td>\n",
       "      <td>...</td>\n",
       "    </tr>\n",
       "    <tr>\n",
       "      <th>202139</th>\n",
       "      <td>/madd-jay/</td>\n",
       "      <td>NaN</td>\n",
       "      <td>NaN</td>\n",
       "      <td>Madd Jay</td>\n",
       "      <td>0</td>\n",
       "      <td>0.0</td>\n",
       "      <td>Hip Hop</td>\n",
       "    </tr>\n",
       "    <tr>\n",
       "      <th>202140</th>\n",
       "      <td>/money-talks-records/</td>\n",
       "      <td>NaN</td>\n",
       "      <td>NaN</td>\n",
       "      <td>Money Talks Records</td>\n",
       "      <td>0</td>\n",
       "      <td>0.0</td>\n",
       "      <td>Hip Hop</td>\n",
       "    </tr>\n",
       "    <tr>\n",
       "      <th>202141</th>\n",
       "      <td>/triinko/</td>\n",
       "      <td>NaN</td>\n",
       "      <td>NaN</td>\n",
       "      <td>Triinko</td>\n",
       "      <td>0</td>\n",
       "      <td>0.0</td>\n",
       "      <td>Hip Hop</td>\n",
       "    </tr>\n",
       "    <tr>\n",
       "      <th>202142</th>\n",
       "      <td>/venark-oficial/</td>\n",
       "      <td>NaN</td>\n",
       "      <td>NaN</td>\n",
       "      <td>VenarK Oficial</td>\n",
       "      <td>0</td>\n",
       "      <td>0.0</td>\n",
       "      <td>Hip Hop</td>\n",
       "    </tr>\n",
       "    <tr>\n",
       "      <th>202143</th>\n",
       "      <td>/roberto-amaro-bento/</td>\n",
       "      <td>NaN</td>\n",
       "      <td>NaN</td>\n",
       "      <td>Roberto Amaro Bento</td>\n",
       "      <td>0</td>\n",
       "      <td>0.0</td>\n",
       "      <td>Funk Carioca</td>\n",
       "    </tr>\n",
       "  </tbody>\n",
       "</table>\n",
       "<p>202144 rows × 7 columns</p>\n",
       "</div>"
      ],
      "text/plain": [
       "                         Link  \\\n",
       "0             /10000-maniacs/   \n",
       "1             /10000-maniacs/   \n",
       "2             /10000-maniacs/   \n",
       "3             /10000-maniacs/   \n",
       "4             /10000-maniacs/   \n",
       "...                       ...   \n",
       "202139             /madd-jay/   \n",
       "202140  /money-talks-records/   \n",
       "202141              /triinko/   \n",
       "202142       /venark-oficial/   \n",
       "202143  /roberto-amaro-bento/   \n",
       "\n",
       "                                                    Lyric    Idiom  \\\n",
       "0       I could feel at the time. There was no way of ...  ENGLISH   \n",
       "1       Take me now, baby, here as I am. Hold me close...  ENGLISH   \n",
       "2       These are. These are days you'll remember. Nev...  ENGLISH   \n",
       "3       A lie to say, \"O my mountain has coal veins an...  ENGLISH   \n",
       "4       Trudging slowly over wet sand. Back to the ben...  ENGLISH   \n",
       "...                                                   ...      ...   \n",
       "202139                                                NaN      NaN   \n",
       "202140                                                NaN      NaN   \n",
       "202141                                                NaN      NaN   \n",
       "202142                                                NaN      NaN   \n",
       "202143                                                NaN      NaN   \n",
       "\n",
       "                     Artist  Songs  Popularity         Genre  \n",
       "0             10000 Maniacs    110         0.3          Rock  \n",
       "1             10000 Maniacs    110         0.3          Rock  \n",
       "2             10000 Maniacs    110         0.3          Rock  \n",
       "3             10000 Maniacs    110         0.3          Rock  \n",
       "4             10000 Maniacs    110         0.3          Rock  \n",
       "...                     ...    ...         ...           ...  \n",
       "202139             Madd Jay      0         0.0       Hip Hop  \n",
       "202140  Money Talks Records      0         0.0       Hip Hop  \n",
       "202141              Triinko      0         0.0       Hip Hop  \n",
       "202142       VenarK Oficial      0         0.0       Hip Hop  \n",
       "202143  Roberto Amaro Bento      0         0.0  Funk Carioca  \n",
       "\n",
       "[202144 rows x 7 columns]"
      ]
     },
     "execution_count": 60,
     "metadata": {},
     "output_type": "execute_result"
    }
   ],
   "source": [
    "data"
   ]
  },
  {
   "cell_type": "code",
   "execution_count": 61,
   "metadata": {},
   "outputs": [
    {
     "name": "stdout",
     "output_type": "stream",
     "text": [
      "Link             0\n",
      "Lyric           84\n",
      "Idiom         3099\n",
      "Artist           0\n",
      "Songs            0\n",
      "Popularity       0\n",
      "Genre            0\n",
      "dtype: int64\n"
     ]
    }
   ],
   "source": [
    "print (data.isnull().sum())"
   ]
  },
  {
   "cell_type": "code",
   "execution_count": 62,
   "metadata": {},
   "outputs": [
    {
     "data": {
      "text/html": [
       "<div>\n",
       "<style scoped>\n",
       "    .dataframe tbody tr th:only-of-type {\n",
       "        vertical-align: middle;\n",
       "    }\n",
       "\n",
       "    .dataframe tbody tr th {\n",
       "        vertical-align: top;\n",
       "    }\n",
       "\n",
       "    .dataframe thead th {\n",
       "        text-align: right;\n",
       "    }\n",
       "</style>\n",
       "<table border=\"1\" class=\"dataframe\">\n",
       "  <thead>\n",
       "    <tr style=\"text-align: right;\">\n",
       "      <th></th>\n",
       "      <th>Link</th>\n",
       "      <th>Lyric</th>\n",
       "      <th>Idiom</th>\n",
       "      <th>Artist</th>\n",
       "      <th>Songs</th>\n",
       "      <th>Popularity</th>\n",
       "      <th>Genre</th>\n",
       "    </tr>\n",
       "  </thead>\n",
       "  <tbody>\n",
       "    <tr>\n",
       "      <th>0</th>\n",
       "      <td>/10000-maniacs/</td>\n",
       "      <td>I could feel at the time. There was no way of ...</td>\n",
       "      <td>ENGLISH</td>\n",
       "      <td>10000 Maniacs</td>\n",
       "      <td>110</td>\n",
       "      <td>0.3</td>\n",
       "      <td>Rock</td>\n",
       "    </tr>\n",
       "    <tr>\n",
       "      <th>1</th>\n",
       "      <td>/10000-maniacs/</td>\n",
       "      <td>Take me now, baby, here as I am. Hold me close...</td>\n",
       "      <td>ENGLISH</td>\n",
       "      <td>10000 Maniacs</td>\n",
       "      <td>110</td>\n",
       "      <td>0.3</td>\n",
       "      <td>Rock</td>\n",
       "    </tr>\n",
       "    <tr>\n",
       "      <th>2</th>\n",
       "      <td>/10000-maniacs/</td>\n",
       "      <td>These are. These are days you'll remember. Nev...</td>\n",
       "      <td>ENGLISH</td>\n",
       "      <td>10000 Maniacs</td>\n",
       "      <td>110</td>\n",
       "      <td>0.3</td>\n",
       "      <td>Rock</td>\n",
       "    </tr>\n",
       "    <tr>\n",
       "      <th>3</th>\n",
       "      <td>/10000-maniacs/</td>\n",
       "      <td>A lie to say, \"O my mountain has coal veins an...</td>\n",
       "      <td>ENGLISH</td>\n",
       "      <td>10000 Maniacs</td>\n",
       "      <td>110</td>\n",
       "      <td>0.3</td>\n",
       "      <td>Rock</td>\n",
       "    </tr>\n",
       "    <tr>\n",
       "      <th>4</th>\n",
       "      <td>/10000-maniacs/</td>\n",
       "      <td>Trudging slowly over wet sand. Back to the ben...</td>\n",
       "      <td>ENGLISH</td>\n",
       "      <td>10000 Maniacs</td>\n",
       "      <td>110</td>\n",
       "      <td>0.3</td>\n",
       "      <td>Rock</td>\n",
       "    </tr>\n",
       "    <tr>\n",
       "      <th>...</th>\n",
       "      <td>...</td>\n",
       "      <td>...</td>\n",
       "      <td>...</td>\n",
       "      <td>...</td>\n",
       "      <td>...</td>\n",
       "      <td>...</td>\n",
       "      <td>...</td>\n",
       "    </tr>\n",
       "    <tr>\n",
       "      <th>202091</th>\n",
       "      <td>/zeca-pagodinho/</td>\n",
       "      <td>Eu vou botar teu nome na macumba. Vou procurar...</td>\n",
       "      <td>PORTUGUESE</td>\n",
       "      <td>Zeca Pagodinho</td>\n",
       "      <td>309</td>\n",
       "      <td>13.2</td>\n",
       "      <td>Samba</td>\n",
       "    </tr>\n",
       "    <tr>\n",
       "      <th>202092</th>\n",
       "      <td>/zeca-pagodinho/</td>\n",
       "      <td>Vou procurar um novo amor na minha vida. Porqu...</td>\n",
       "      <td>PORTUGUESE</td>\n",
       "      <td>Zeca Pagodinho</td>\n",
       "      <td>309</td>\n",
       "      <td>13.2</td>\n",
       "      <td>Samba</td>\n",
       "    </tr>\n",
       "    <tr>\n",
       "      <th>202093</th>\n",
       "      <td>/zeca-pagodinho/</td>\n",
       "      <td>Quando a mare vazá. Vou vê juliana. Vou vê jul...</td>\n",
       "      <td>PORTUGUESE</td>\n",
       "      <td>Zeca Pagodinho</td>\n",
       "      <td>309</td>\n",
       "      <td>13.2</td>\n",
       "      <td>Samba</td>\n",
       "    </tr>\n",
       "    <tr>\n",
       "      <th>202094</th>\n",
       "      <td>/zeca-pagodinho/</td>\n",
       "      <td>Ô Yaô. Yaô, cadê a samba?. Está mangando na cu...</td>\n",
       "      <td>PORTUGUESE</td>\n",
       "      <td>Zeca Pagodinho</td>\n",
       "      <td>309</td>\n",
       "      <td>13.2</td>\n",
       "      <td>Samba</td>\n",
       "    </tr>\n",
       "    <tr>\n",
       "      <th>202095</th>\n",
       "      <td>/zeca-pagodinho/</td>\n",
       "      <td>Ô, Zeca, tu tá morando onde?. Ô, Zeca, tu tá m...</td>\n",
       "      <td>PORTUGUESE</td>\n",
       "      <td>Zeca Pagodinho</td>\n",
       "      <td>309</td>\n",
       "      <td>13.2</td>\n",
       "      <td>Samba</td>\n",
       "    </tr>\n",
       "  </tbody>\n",
       "</table>\n",
       "<p>199045 rows × 7 columns</p>\n",
       "</div>"
      ],
      "text/plain": [
       "                    Link                                              Lyric  \\\n",
       "0        /10000-maniacs/  I could feel at the time. There was no way of ...   \n",
       "1        /10000-maniacs/  Take me now, baby, here as I am. Hold me close...   \n",
       "2        /10000-maniacs/  These are. These are days you'll remember. Nev...   \n",
       "3        /10000-maniacs/  A lie to say, \"O my mountain has coal veins an...   \n",
       "4        /10000-maniacs/  Trudging slowly over wet sand. Back to the ben...   \n",
       "...                  ...                                                ...   \n",
       "202091  /zeca-pagodinho/  Eu vou botar teu nome na macumba. Vou procurar...   \n",
       "202092  /zeca-pagodinho/  Vou procurar um novo amor na minha vida. Porqu...   \n",
       "202093  /zeca-pagodinho/  Quando a mare vazá. Vou vê juliana. Vou vê jul...   \n",
       "202094  /zeca-pagodinho/  Ô Yaô. Yaô, cadê a samba?. Está mangando na cu...   \n",
       "202095  /zeca-pagodinho/  Ô, Zeca, tu tá morando onde?. Ô, Zeca, tu tá m...   \n",
       "\n",
       "             Idiom          Artist  Songs  Popularity  Genre  \n",
       "0          ENGLISH   10000 Maniacs    110         0.3   Rock  \n",
       "1          ENGLISH   10000 Maniacs    110         0.3   Rock  \n",
       "2          ENGLISH   10000 Maniacs    110         0.3   Rock  \n",
       "3          ENGLISH   10000 Maniacs    110         0.3   Rock  \n",
       "4          ENGLISH   10000 Maniacs    110         0.3   Rock  \n",
       "...            ...             ...    ...         ...    ...  \n",
       "202091  PORTUGUESE  Zeca Pagodinho    309        13.2  Samba  \n",
       "202092  PORTUGUESE  Zeca Pagodinho    309        13.2  Samba  \n",
       "202093  PORTUGUESE  Zeca Pagodinho    309        13.2  Samba  \n",
       "202094  PORTUGUESE  Zeca Pagodinho    309        13.2  Samba  \n",
       "202095  PORTUGUESE  Zeca Pagodinho    309        13.2  Samba  \n",
       "\n",
       "[199045 rows x 7 columns]"
      ]
     },
     "execution_count": 62,
     "metadata": {},
     "output_type": "execute_result"
    }
   ],
   "source": [
    "data.dropna()"
   ]
  },
  {
   "cell_type": "code",
   "execution_count": 63,
   "metadata": {},
   "outputs": [
    {
     "data": {
      "text/html": [
       "<div>\n",
       "<style scoped>\n",
       "    .dataframe tbody tr th:only-of-type {\n",
       "        vertical-align: middle;\n",
       "    }\n",
       "\n",
       "    .dataframe tbody tr th {\n",
       "        vertical-align: top;\n",
       "    }\n",
       "\n",
       "    .dataframe thead th {\n",
       "        text-align: right;\n",
       "    }\n",
       "</style>\n",
       "<table border=\"1\" class=\"dataframe\">\n",
       "  <thead>\n",
       "    <tr style=\"text-align: right;\">\n",
       "      <th></th>\n",
       "      <th>Link</th>\n",
       "      <th>Lyric</th>\n",
       "      <th>Idiom</th>\n",
       "      <th>Artist</th>\n",
       "      <th>Songs</th>\n",
       "      <th>Popularity</th>\n",
       "      <th>Genre</th>\n",
       "    </tr>\n",
       "  </thead>\n",
       "  <tbody>\n",
       "    <tr>\n",
       "      <th>0</th>\n",
       "      <td>/10000-maniacs/</td>\n",
       "      <td>I could feel at the time. There was no way of ...</td>\n",
       "      <td>ENGLISH</td>\n",
       "      <td>10000 Maniacs</td>\n",
       "      <td>110</td>\n",
       "      <td>0.3</td>\n",
       "      <td>Rock</td>\n",
       "    </tr>\n",
       "    <tr>\n",
       "      <th>1</th>\n",
       "      <td>/10000-maniacs/</td>\n",
       "      <td>Take me now, baby, here as I am. Hold me close...</td>\n",
       "      <td>ENGLISH</td>\n",
       "      <td>10000 Maniacs</td>\n",
       "      <td>110</td>\n",
       "      <td>0.3</td>\n",
       "      <td>Rock</td>\n",
       "    </tr>\n",
       "    <tr>\n",
       "      <th>2</th>\n",
       "      <td>/10000-maniacs/</td>\n",
       "      <td>These are. These are days you'll remember. Nev...</td>\n",
       "      <td>ENGLISH</td>\n",
       "      <td>10000 Maniacs</td>\n",
       "      <td>110</td>\n",
       "      <td>0.3</td>\n",
       "      <td>Rock</td>\n",
       "    </tr>\n",
       "    <tr>\n",
       "      <th>3</th>\n",
       "      <td>/10000-maniacs/</td>\n",
       "      <td>A lie to say, \"O my mountain has coal veins an...</td>\n",
       "      <td>ENGLISH</td>\n",
       "      <td>10000 Maniacs</td>\n",
       "      <td>110</td>\n",
       "      <td>0.3</td>\n",
       "      <td>Rock</td>\n",
       "    </tr>\n",
       "    <tr>\n",
       "      <th>4</th>\n",
       "      <td>/10000-maniacs/</td>\n",
       "      <td>Trudging slowly over wet sand. Back to the ben...</td>\n",
       "      <td>ENGLISH</td>\n",
       "      <td>10000 Maniacs</td>\n",
       "      <td>110</td>\n",
       "      <td>0.3</td>\n",
       "      <td>Rock</td>\n",
       "    </tr>\n",
       "    <tr>\n",
       "      <th>...</th>\n",
       "      <td>...</td>\n",
       "      <td>...</td>\n",
       "      <td>...</td>\n",
       "      <td>...</td>\n",
       "      <td>...</td>\n",
       "      <td>...</td>\n",
       "      <td>...</td>\n",
       "    </tr>\n",
       "    <tr>\n",
       "      <th>202139</th>\n",
       "      <td>/madd-jay/</td>\n",
       "      <td>NaN</td>\n",
       "      <td>NaN</td>\n",
       "      <td>Madd Jay</td>\n",
       "      <td>0</td>\n",
       "      <td>0.0</td>\n",
       "      <td>Hip Hop</td>\n",
       "    </tr>\n",
       "    <tr>\n",
       "      <th>202140</th>\n",
       "      <td>/money-talks-records/</td>\n",
       "      <td>NaN</td>\n",
       "      <td>NaN</td>\n",
       "      <td>Money Talks Records</td>\n",
       "      <td>0</td>\n",
       "      <td>0.0</td>\n",
       "      <td>Hip Hop</td>\n",
       "    </tr>\n",
       "    <tr>\n",
       "      <th>202141</th>\n",
       "      <td>/triinko/</td>\n",
       "      <td>NaN</td>\n",
       "      <td>NaN</td>\n",
       "      <td>Triinko</td>\n",
       "      <td>0</td>\n",
       "      <td>0.0</td>\n",
       "      <td>Hip Hop</td>\n",
       "    </tr>\n",
       "    <tr>\n",
       "      <th>202142</th>\n",
       "      <td>/venark-oficial/</td>\n",
       "      <td>NaN</td>\n",
       "      <td>NaN</td>\n",
       "      <td>VenarK Oficial</td>\n",
       "      <td>0</td>\n",
       "      <td>0.0</td>\n",
       "      <td>Hip Hop</td>\n",
       "    </tr>\n",
       "    <tr>\n",
       "      <th>202143</th>\n",
       "      <td>/roberto-amaro-bento/</td>\n",
       "      <td>NaN</td>\n",
       "      <td>NaN</td>\n",
       "      <td>Roberto Amaro Bento</td>\n",
       "      <td>0</td>\n",
       "      <td>0.0</td>\n",
       "      <td>Funk Carioca</td>\n",
       "    </tr>\n",
       "  </tbody>\n",
       "</table>\n",
       "<p>202144 rows × 7 columns</p>\n",
       "</div>"
      ],
      "text/plain": [
       "                         Link  \\\n",
       "0             /10000-maniacs/   \n",
       "1             /10000-maniacs/   \n",
       "2             /10000-maniacs/   \n",
       "3             /10000-maniacs/   \n",
       "4             /10000-maniacs/   \n",
       "...                       ...   \n",
       "202139             /madd-jay/   \n",
       "202140  /money-talks-records/   \n",
       "202141              /triinko/   \n",
       "202142       /venark-oficial/   \n",
       "202143  /roberto-amaro-bento/   \n",
       "\n",
       "                                                    Lyric    Idiom  \\\n",
       "0       I could feel at the time. There was no way of ...  ENGLISH   \n",
       "1       Take me now, baby, here as I am. Hold me close...  ENGLISH   \n",
       "2       These are. These are days you'll remember. Nev...  ENGLISH   \n",
       "3       A lie to say, \"O my mountain has coal veins an...  ENGLISH   \n",
       "4       Trudging slowly over wet sand. Back to the ben...  ENGLISH   \n",
       "...                                                   ...      ...   \n",
       "202139                                                NaN      NaN   \n",
       "202140                                                NaN      NaN   \n",
       "202141                                                NaN      NaN   \n",
       "202142                                                NaN      NaN   \n",
       "202143                                                NaN      NaN   \n",
       "\n",
       "                     Artist  Songs  Popularity         Genre  \n",
       "0             10000 Maniacs    110         0.3          Rock  \n",
       "1             10000 Maniacs    110         0.3          Rock  \n",
       "2             10000 Maniacs    110         0.3          Rock  \n",
       "3             10000 Maniacs    110         0.3          Rock  \n",
       "4             10000 Maniacs    110         0.3          Rock  \n",
       "...                     ...    ...         ...           ...  \n",
       "202139             Madd Jay      0         0.0       Hip Hop  \n",
       "202140  Money Talks Records      0         0.0       Hip Hop  \n",
       "202141              Triinko      0         0.0       Hip Hop  \n",
       "202142       VenarK Oficial      0         0.0       Hip Hop  \n",
       "202143  Roberto Amaro Bento      0         0.0  Funk Carioca  \n",
       "\n",
       "[202144 rows x 7 columns]"
      ]
     },
     "execution_count": 63,
     "metadata": {},
     "output_type": "execute_result"
    }
   ],
   "source": [
    "data"
   ]
  },
  {
   "cell_type": "markdown",
   "metadata": {},
   "source": [
    "And there are missing values. We can solve this problem by using the below code."
   ]
  },
  {
   "cell_type": "code",
   "execution_count": 64,
   "metadata": {},
   "outputs": [],
   "source": [
    "options = ['ENGLISH'] \n",
    "  \n",
    "# selecting rows based on condition \n",
    "data_new = data[data['Idiom'].isin(options)]"
   ]
  },
  {
   "cell_type": "code",
   "execution_count": 65,
   "metadata": {},
   "outputs": [
    {
     "data": {
      "text/html": [
       "<div>\n",
       "<style scoped>\n",
       "    .dataframe tbody tr th:only-of-type {\n",
       "        vertical-align: middle;\n",
       "    }\n",
       "\n",
       "    .dataframe tbody tr th {\n",
       "        vertical-align: top;\n",
       "    }\n",
       "\n",
       "    .dataframe thead th {\n",
       "        text-align: right;\n",
       "    }\n",
       "</style>\n",
       "<table border=\"1\" class=\"dataframe\">\n",
       "  <thead>\n",
       "    <tr style=\"text-align: right;\">\n",
       "      <th></th>\n",
       "      <th>Link</th>\n",
       "      <th>Lyric</th>\n",
       "      <th>Idiom</th>\n",
       "      <th>Artist</th>\n",
       "      <th>Songs</th>\n",
       "      <th>Popularity</th>\n",
       "      <th>Genre</th>\n",
       "    </tr>\n",
       "  </thead>\n",
       "  <tbody>\n",
       "    <tr>\n",
       "      <th>0</th>\n",
       "      <td>/10000-maniacs/</td>\n",
       "      <td>I could feel at the time. There was no way of ...</td>\n",
       "      <td>ENGLISH</td>\n",
       "      <td>10000 Maniacs</td>\n",
       "      <td>110</td>\n",
       "      <td>0.3</td>\n",
       "      <td>Rock</td>\n",
       "    </tr>\n",
       "    <tr>\n",
       "      <th>1</th>\n",
       "      <td>/10000-maniacs/</td>\n",
       "      <td>Take me now, baby, here as I am. Hold me close...</td>\n",
       "      <td>ENGLISH</td>\n",
       "      <td>10000 Maniacs</td>\n",
       "      <td>110</td>\n",
       "      <td>0.3</td>\n",
       "      <td>Rock</td>\n",
       "    </tr>\n",
       "    <tr>\n",
       "      <th>2</th>\n",
       "      <td>/10000-maniacs/</td>\n",
       "      <td>These are. These are days you'll remember. Nev...</td>\n",
       "      <td>ENGLISH</td>\n",
       "      <td>10000 Maniacs</td>\n",
       "      <td>110</td>\n",
       "      <td>0.3</td>\n",
       "      <td>Rock</td>\n",
       "    </tr>\n",
       "    <tr>\n",
       "      <th>3</th>\n",
       "      <td>/10000-maniacs/</td>\n",
       "      <td>A lie to say, \"O my mountain has coal veins an...</td>\n",
       "      <td>ENGLISH</td>\n",
       "      <td>10000 Maniacs</td>\n",
       "      <td>110</td>\n",
       "      <td>0.3</td>\n",
       "      <td>Rock</td>\n",
       "    </tr>\n",
       "    <tr>\n",
       "      <th>4</th>\n",
       "      <td>/10000-maniacs/</td>\n",
       "      <td>Trudging slowly over wet sand. Back to the ben...</td>\n",
       "      <td>ENGLISH</td>\n",
       "      <td>10000 Maniacs</td>\n",
       "      <td>110</td>\n",
       "      <td>0.3</td>\n",
       "      <td>Rock</td>\n",
       "    </tr>\n",
       "    <tr>\n",
       "      <th>...</th>\n",
       "      <td>...</td>\n",
       "      <td>...</td>\n",
       "      <td>...</td>\n",
       "      <td>...</td>\n",
       "      <td>...</td>\n",
       "      <td>...</td>\n",
       "      <td>...</td>\n",
       "    </tr>\n",
       "    <tr>\n",
       "      <th>200513</th>\n",
       "      <td>/sambo/</td>\n",
       "      <td>I was so high I did not recognize. The fire bu...</td>\n",
       "      <td>ENGLISH</td>\n",
       "      <td>Sambô</td>\n",
       "      <td>71</td>\n",
       "      <td>0.8</td>\n",
       "      <td>Samba</td>\n",
       "    </tr>\n",
       "    <tr>\n",
       "      <th>200518</th>\n",
       "      <td>/sambo/</td>\n",
       "      <td>Well sometimes I go out by myself. And I look ...</td>\n",
       "      <td>ENGLISH</td>\n",
       "      <td>Sambô</td>\n",
       "      <td>71</td>\n",
       "      <td>0.8</td>\n",
       "      <td>Samba</td>\n",
       "    </tr>\n",
       "    <tr>\n",
       "      <th>200522</th>\n",
       "      <td>/sambo/</td>\n",
       "      <td>Feeling my way through the darkness. Guided by...</td>\n",
       "      <td>ENGLISH</td>\n",
       "      <td>Sambô</td>\n",
       "      <td>71</td>\n",
       "      <td>0.8</td>\n",
       "      <td>Samba</td>\n",
       "    </tr>\n",
       "    <tr>\n",
       "      <th>200686</th>\n",
       "      <td>/seu-jorge/</td>\n",
       "      <td>Don't, don't, that's what you say. Each time t...</td>\n",
       "      <td>ENGLISH</td>\n",
       "      <td>Seu Jorge</td>\n",
       "      <td>106</td>\n",
       "      <td>4.2</td>\n",
       "      <td>Samba</td>\n",
       "    </tr>\n",
       "    <tr>\n",
       "      <th>201859</th>\n",
       "      <td>/zeca-pagodinho/</td>\n",
       "      <td>I've been. For almost everything in life. In t...</td>\n",
       "      <td>ENGLISH</td>\n",
       "      <td>Zeca Pagodinho</td>\n",
       "      <td>309</td>\n",
       "      <td>13.2</td>\n",
       "      <td>Samba</td>\n",
       "    </tr>\n",
       "  </tbody>\n",
       "</table>\n",
       "<p>109557 rows × 7 columns</p>\n",
       "</div>"
      ],
      "text/plain": [
       "                    Link                                              Lyric  \\\n",
       "0        /10000-maniacs/  I could feel at the time. There was no way of ...   \n",
       "1        /10000-maniacs/  Take me now, baby, here as I am. Hold me close...   \n",
       "2        /10000-maniacs/  These are. These are days you'll remember. Nev...   \n",
       "3        /10000-maniacs/  A lie to say, \"O my mountain has coal veins an...   \n",
       "4        /10000-maniacs/  Trudging slowly over wet sand. Back to the ben...   \n",
       "...                  ...                                                ...   \n",
       "200513           /sambo/  I was so high I did not recognize. The fire bu...   \n",
       "200518           /sambo/  Well sometimes I go out by myself. And I look ...   \n",
       "200522           /sambo/  Feeling my way through the darkness. Guided by...   \n",
       "200686       /seu-jorge/  Don't, don't, that's what you say. Each time t...   \n",
       "201859  /zeca-pagodinho/  I've been. For almost everything in life. In t...   \n",
       "\n",
       "          Idiom          Artist  Songs  Popularity  Genre  \n",
       "0       ENGLISH   10000 Maniacs    110         0.3   Rock  \n",
       "1       ENGLISH   10000 Maniacs    110         0.3   Rock  \n",
       "2       ENGLISH   10000 Maniacs    110         0.3   Rock  \n",
       "3       ENGLISH   10000 Maniacs    110         0.3   Rock  \n",
       "4       ENGLISH   10000 Maniacs    110         0.3   Rock  \n",
       "...         ...             ...    ...         ...    ...  \n",
       "200513  ENGLISH           Sambô     71         0.8  Samba  \n",
       "200518  ENGLISH           Sambô     71         0.8  Samba  \n",
       "200522  ENGLISH           Sambô     71         0.8  Samba  \n",
       "200686  ENGLISH       Seu Jorge    106         4.2  Samba  \n",
       "201859  ENGLISH  Zeca Pagodinho    309        13.2  Samba  \n",
       "\n",
       "[109557 rows x 7 columns]"
      ]
     },
     "execution_count": 65,
     "metadata": {},
     "output_type": "execute_result"
    }
   ],
   "source": [
    "data_new"
   ]
  }
 ],
 "metadata": {
  "kernelspec": {
   "display_name": "Python 3",
   "language": "python",
   "name": "python3"
  },
  "language_info": {
   "codemirror_mode": {
    "name": "ipython",
    "version": 3
   },
   "file_extension": ".py",
   "mimetype": "text/x-python",
   "name": "python",
   "nbconvert_exporter": "python",
   "pygments_lexer": "ipython3",
   "version": "3.8.3"
  }
 },
 "nbformat": 4,
 "nbformat_minor": 4
}
